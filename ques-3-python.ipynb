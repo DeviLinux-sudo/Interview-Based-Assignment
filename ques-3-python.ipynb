{
 "cells": [
  {
   "cell_type": "code",
   "execution_count": 1,
   "id": "6e88c214",
   "metadata": {},
   "outputs": [
    {
     "name": "stdout",
     "output_type": "stream",
     "text": [
      "Data downloaded and converted to Excel successfully.\n"
     ]
    }
   ],
   "source": [
    "import requests\n",
    "import pandas as pd\n",
    "\n",
    "def download_and_convert_to_excel(link, output_file):\n",
    "    \n",
    "    response = requests.get(link)\n",
    "    \n",
    "  \n",
    "    if response.status_code == 200:\n",
    "       \n",
    "        data = response.json()\n",
    "        \n",
    "      \n",
    "        pokemon_data = []\n",
    "        for pokemon in data['pokemon']:\n",
    "            multipliers = pokemon.get('multipliers')\n",
    "            if multipliers is None:\n",
    "                multipliers_str = ''\n",
    "            else:\n",
    "                multipliers_str = ', '.join(map(str, multipliers))\n",
    "            pokemon_entry = {\n",
    "                'id': pokemon['id'],\n",
    "                'num': pokemon['num'],\n",
    "                'name': pokemon['name'],\n",
    "                'img': pokemon['img'],\n",
    "                'type': ', '.join(pokemon['type']),\n",
    "                'height': pokemon['height'],\n",
    "                'weight': pokemon['weight'],\n",
    "                'candy': pokemon['candy'],\n",
    "                'candy_count': pokemon.get('candy_count', 0),\n",
    "                'egg': pokemon['egg'],\n",
    "                'spawn_chance': pokemon.get('spawn_chance', 0),\n",
    "                'avg_spawns': pokemon.get('avg_spawns', 0),\n",
    "                'spawn_time': pokemon['spawn_time'],\n",
    "                'multipliers': multipliers_str,\n",
    "                'weakness': ', '.join(pokemon.get('weaknesses', [])),\n",
    "                'next_evolution': ', '.join([evolution['name'] for evolution in pokemon.get('next_evolution', [])]),\n",
    "                'prev_evolution': ', '.join([evolution['name'] for evolution in pokemon.get('prev_evolution', [])])\n",
    "            }\n",
    "            pokemon_data.append(pokemon_entry)\n",
    "        \n",
    "     \n",
    "        df = pd.DataFrame(pokemon_data)\n",
    "        \n",
    "      \n",
    "        df.to_excel(output_file, index=False)\n",
    "        \n",
    "        print(\"Data downloaded and converted to Excel successfully.\")\n",
    "    else:\n",
    "        print(\"Failed to download the data.\")\n",
    "\n",
    "\n",
    "link = \"https://raw.githubusercontent.com/Biuni/PokemonGO-Pokedex/master/pokedex.json\"\n",
    "output_file = \"pokemon_data.xlsx\"\n",
    "\n",
    "\n",
    "download_and_convert_to_excel(link, output_file)\n"
   ]
  },
  {
   "cell_type": "code",
   "execution_count": null,
   "id": "8a561d3c",
   "metadata": {},
   "outputs": [],
   "source": []
  }
 ],
 "metadata": {
  "kernelspec": {
   "display_name": "Python 3 (ipykernel)",
   "language": "python",
   "name": "python3"
  },
  "language_info": {
   "codemirror_mode": {
    "name": "ipython",
    "version": 3
   },
   "file_extension": ".py",
   "mimetype": "text/x-python",
   "name": "python",
   "nbconvert_exporter": "python",
   "pygments_lexer": "ipython3",
   "version": "3.10.9"
  }
 },
 "nbformat": 4,
 "nbformat_minor": 5
}
